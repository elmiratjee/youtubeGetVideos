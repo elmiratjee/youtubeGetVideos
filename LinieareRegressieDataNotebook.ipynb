{
 "cells": [
  {
   "cell_type": "code",
   "execution_count": 1,
   "metadata": {},
   "outputs": [],
   "source": [
    "import pandas as pd\n",
    "import numpy as np\n",
    "import sklearn\n",
    "from sklearn import linear_model\n",
    "from sklearn.utils import shuffle\n",
    "from sklearn.linear_model import LinearRegression\n",
    "import datetime as dt\n",
    "import time\n",
    "import matplotlib.pyplot as pyplot\n",
    "import pickle\n",
    "from matplotlib import style"
   ]
  },
  {
   "cell_type": "code",
   "execution_count": 2,
   "metadata": {},
   "outputs": [],
   "source": [
    "data = pd.read_csv(\"dataset.csv\", sep=\";\")"
   ]
  },
  {
   "cell_type": "code",
   "execution_count": 3,
   "metadata": {},
   "outputs": [],
   "source": [
    "data = data[[\"Index\", \"videoPublishedAt\"]]\n",
    "data2 = data[[\"Index\", \"videoPublishedAt\"]]\n",
    "\n",
    "data2['videoPublishedAt'] = pd.to_datetime(data2['videoPublishedAt'], format='%d-%m-%Y %H:%M')\n",
    "data2 = data2.assign(Dates=data['videoPublishedAt'])"
   ]
  },
  {
   "cell_type": "code",
   "execution_count": 4,
   "metadata": {},
   "outputs": [],
   "source": [
    "data['videoPublishedAt'] = pd.to_datetime(data['videoPublishedAt'])\n",
    "data['videoPublishedAt']=data['videoPublishedAt'].map(dt.datetime.toordinal)"
   ]
  },
  {
   "cell_type": "code",
   "execution_count": 5,
   "metadata": {},
   "outputs": [],
   "source": [
    "predict = \"videoPublishedAt\""
   ]
  },
  {
   "cell_type": "code",
   "execution_count": 6,
   "metadata": {},
   "outputs": [],
   "source": [
    "X = np.array(data.drop([predict], 1))\n",
    "y = np.array(data[predict])\n",
    "x_train, x_test, y_train, y_test = sklearn.model_selection.train_test_split(X, y)"
   ]
  },
  {
   "cell_type": "code",
   "execution_count": 9,
   "metadata": {},
   "outputs": [
    {
     "name": "stdout",
     "output_type": "stream",
     "text": [
      "Coefficient: \n",
      " [-6.31720433]\n",
      "Intercept: \n",
      " 737611.2452783986\n"
     ]
    }
   ],
   "source": [
    "best = 0\n",
    "print('Coefficient: \\n', linear.coef_)\n",
    "print('Intercept: \\n', linear.intercept_)"
   ]
  },
  {
   "cell_type": "code",
   "execution_count": 8,
   "metadata": {},
   "outputs": [
    {
     "name": "stdout",
     "output_type": "stream",
     "text": [
      "-0.01991761508235501\n",
      "-0.01991761508235501\n",
      "-0.01991761508235501\n",
      "-0.01991761508235501\n",
      "-0.01991761508235501\n",
      "-0.01991761508235501\n",
      "-0.01991761508235501\n",
      "-0.01991761508235501\n",
      "-0.01991761508235501\n",
      "-0.01991761508235501\n",
      "-0.01991761508235501\n",
      "-0.01991761508235501\n",
      "-0.01991761508235501\n",
      "-0.01991761508235501\n",
      "-0.01991761508235501\n",
      "-0.01991761508235501\n",
      "-0.01991761508235501\n",
      "-0.01991761508235501\n",
      "-0.01991761508235501\n",
      "-0.01991761508235501\n",
      "-0.01991761508235501\n",
      "-0.01991761508235501\n",
      "-0.01991761508235501\n",
      "-0.01991761508235501\n",
      "-0.01991761508235501\n",
      "-0.01991761508235501\n",
      "-0.01991761508235501\n",
      "-0.01991761508235501\n",
      "-0.01991761508235501\n",
      "-0.01991761508235501\n",
      "-0.01991761508235501\n",
      "-0.01991761508235501\n",
      "-0.01991761508235501\n",
      "-0.01991761508235501\n",
      "-0.01991761508235501\n",
      "-0.01991761508235501\n",
      "-0.01991761508235501\n",
      "-0.01991761508235501\n",
      "-0.01991761508235501\n",
      "-0.01991761508235501\n",
      "-0.01991761508235501\n",
      "-0.01991761508235501\n",
      "-0.01991761508235501\n",
      "-0.01991761508235501\n",
      "-0.01991761508235501\n",
      "-0.01991761508235501\n",
      "-0.01991761508235501\n",
      "-0.01991761508235501\n",
      "-0.01991761508235501\n",
      "-0.01991761508235501\n"
     ]
    }
   ],
   "source": [
    "for besttrain in range(50):\n",
    "    linear = linear_model.LinearRegression()\n",
    "\n",
    "    linear.fit(x_train, y_train)\n",
    "    accuracy = linear.score(x_test, y_test)\n",
    "    print(accuracy)\n",
    "\n",
    "    if accuracy > best:\n",
    "        best = accuracy\n",
    "        with open(\"dataset.pickle\", \"wb\") as f:\n",
    "            pickle.dump(linear, f)"
   ]
  },
  {
   "cell_type": "code",
   "execution_count": 10,
   "metadata": {},
   "outputs": [
    {
     "name": "stdout",
     "output_type": "stream",
     "text": [
      "737541.7560307154 [11] 737512\n",
      "737421.7291483537 [30] 737420\n",
      "737364.8743093401 [39] 737380\n",
      "737510.1700090413 [16] 737609\n",
      "737503.8528047064 [17] 737487\n",
      "737326.9710833312 [45] 737359\n",
      "737472.2667830323 [22] 737700\n",
      "737554.3904393851 [9] 737549\n",
      "737440.6807613581 [27] 737760\n",
      "737465.9495786974 [23] 737547\n",
      "737592.2936653941 [3] 737642\n",
      "737491.2183960368 [19] 737479\n",
      "737497.5356003717 [18] 737482\n"
     ]
    }
   ],
   "source": [
    "predictions = linear.predict(x_test)\n",
    "for x in range(len(predictions)):\n",
    "    print(predictions[x], x_test[x], y_test[x])"
   ]
  },
  {
   "cell_type": "code",
   "execution_count": 11,
   "metadata": {},
   "outputs": [
    {
     "data": {
      "image/png": "[encoded data removed]",
      "text/plain": [
       "<Figure size 432x288 with 1 Axes>"
      ]
     },
     "metadata": {},
     "output_type": "display_data"
    }
   ],
   "source": [
    "p1 = \"Index\"\n",
    "style.use(\"ggplot\")\n",
    "pyplot.scatter(data[p1], data[\"videoPublishedAt\"])\n",
    "pyplot.xlabel(p1)\n",
    "pyplot.ylabel(\"Dates\")\n",
    "pyplot.show()"
   ]
  },
  {
   "cell_type": "code",
   "execution_count": null,
   "metadata": {},
   "outputs": [],
   "source": []
  }
 ],
 "metadata": {
  "kernelspec": {
   "display_name": "Python 3",
   "language": "python",
   "name": "python3"
  },
  "language_info": {
   "codemirror_mode": {
    "name": "ipython",
    "version": 3
   },
   "file_extension": ".py",
   "mimetype": "text/x-python",
   "name": "python",
   "nbconvert_exporter": "python",
   "pygments_lexer": "ipython3",
   "version": "3.7.6"
  }
 },
 "nbformat": 4,
 "nbformat_minor": 4
}
